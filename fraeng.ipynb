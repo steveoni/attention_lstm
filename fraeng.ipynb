{
 "cells": [
  {
   "cell_type": "markdown",
   "metadata": {},
   "source": [
    "## Neural Machine Transalation with attention"
   ]
  },
  {
   "cell_type": "code",
   "execution_count": 1,
   "metadata": {},
   "outputs": [],
   "source": [
    "import pandas as pd\n",
    "import numpy as np\n",
    "import re\n",
    "import string\n",
    "from unicodedata import normalize"
   ]
  },
  {
   "cell_type": "markdown",
   "metadata": {},
   "source": [
    "read the data from the file, using pandas, and since the english text are separated from the french with tabs, we set the value of the delimeter has '\\t'."
   ]
  },
  {
   "cell_type": "code",
   "execution_count": 2,
   "metadata": {},
   "outputs": [
    {
     "data": {
      "text/html": [
       "<div>\n",
       "<style scoped>\n",
       "    .dataframe tbody tr th:only-of-type {\n",
       "        vertical-align: middle;\n",
       "    }\n",
       "\n",
       "    .dataframe tbody tr th {\n",
       "        vertical-align: top;\n",
       "    }\n",
       "\n",
       "    .dataframe thead th {\n",
       "        text-align: right;\n",
       "    }\n",
       "</style>\n",
       "<table border=\"1\" class=\"dataframe\">\n",
       "  <thead>\n",
       "    <tr style=\"text-align: right;\">\n",
       "      <th></th>\n",
       "      <th>0</th>\n",
       "      <th>1</th>\n",
       "    </tr>\n",
       "  </thead>\n",
       "  <tbody>\n",
       "    <tr>\n",
       "      <th>0</th>\n",
       "      <td>Go.</td>\n",
       "      <td>Va !</td>\n",
       "    </tr>\n",
       "    <tr>\n",
       "      <th>1</th>\n",
       "      <td>Run!</td>\n",
       "      <td>Cours !</td>\n",
       "    </tr>\n",
       "    <tr>\n",
       "      <th>2</th>\n",
       "      <td>Run!</td>\n",
       "      <td>Courez !</td>\n",
       "    </tr>\n",
       "    <tr>\n",
       "      <th>3</th>\n",
       "      <td>Fire!</td>\n",
       "      <td>Au feu !</td>\n",
       "    </tr>\n",
       "    <tr>\n",
       "      <th>4</th>\n",
       "      <td>Help!</td>\n",
       "      <td>À l'aide !</td>\n",
       "    </tr>\n",
       "  </tbody>\n",
       "</table>\n",
       "</div>"
      ],
      "text/plain": [
       "       0           1\n",
       "0    Go.        Va !\n",
       "1   Run!     Cours !\n",
       "2   Run!    Courez !\n",
       "3  Fire!    Au feu !\n",
       "4  Help!  À l'aide !"
      ]
     },
     "execution_count": 2,
     "metadata": {},
     "output_type": "execute_result"
    }
   ],
   "source": [
    "df = pd.read_csv(\"fra.txt\",delimiter=\"\\t\",header=None)\n",
    "df.head()"
   ]
  },
  {
   "cell_type": "markdown",
   "metadata": {},
   "source": [
    "since we don't want to used the whole data we select a small portion of size 2000"
   ]
  },
  {
   "cell_type": "code",
   "execution_count": 3,
   "metadata": {},
   "outputs": [
    {
     "name": "stdout",
     "output_type": "stream",
     "text": [
      "2000\n"
     ]
    },
    {
     "data": {
      "text/html": [
       "<div>\n",
       "<style scoped>\n",
       "    .dataframe tbody tr th:only-of-type {\n",
       "        vertical-align: middle;\n",
       "    }\n",
       "\n",
       "    .dataframe tbody tr th {\n",
       "        vertical-align: top;\n",
       "    }\n",
       "\n",
       "    .dataframe thead th {\n",
       "        text-align: right;\n",
       "    }\n",
       "</style>\n",
       "<table border=\"1\" class=\"dataframe\">\n",
       "  <thead>\n",
       "    <tr style=\"text-align: right;\">\n",
       "      <th></th>\n",
       "      <th>0</th>\n",
       "      <th>1</th>\n",
       "    </tr>\n",
       "  </thead>\n",
       "  <tbody>\n",
       "    <tr>\n",
       "      <th>0</th>\n",
       "      <td>Go.</td>\n",
       "      <td>Va !</td>\n",
       "    </tr>\n",
       "    <tr>\n",
       "      <th>1</th>\n",
       "      <td>Run!</td>\n",
       "      <td>Cours !</td>\n",
       "    </tr>\n",
       "    <tr>\n",
       "      <th>2</th>\n",
       "      <td>Run!</td>\n",
       "      <td>Courez !</td>\n",
       "    </tr>\n",
       "    <tr>\n",
       "      <th>3</th>\n",
       "      <td>Fire!</td>\n",
       "      <td>Au feu !</td>\n",
       "    </tr>\n",
       "    <tr>\n",
       "      <th>4</th>\n",
       "      <td>Help!</td>\n",
       "      <td>À l'aide !</td>\n",
       "    </tr>\n",
       "  </tbody>\n",
       "</table>\n",
       "</div>"
      ],
      "text/plain": [
       "       0           1\n",
       "0    Go.        Va !\n",
       "1   Run!     Cours !\n",
       "2   Run!    Courez !\n",
       "3  Fire!    Au feu !\n",
       "4  Help!  À l'aide !"
      ]
     },
     "execution_count": 3,
     "metadata": {},
     "output_type": "execute_result"
    }
   ],
   "source": [
    "df = df.iloc[:2000,:]\n",
    "print(len(df))\n",
    "df.head()"
   ]
  },
  {
   "cell_type": "code",
   "execution_count": 4,
   "metadata": {},
   "outputs": [],
   "source": [
    "def clean_txt(text):\n",
    "    \n",
    "    re_print = re.compile('[^%s]' % re.escape(string.printable))\n",
    "    table = str.maketrans('', '', string.punctuation)\n",
    "    \n",
    "    text = normalize('NFD', text).encode('ascii', 'ignore')\n",
    "    text = text.decode('UTF-8')\n",
    "    text = text.split()\n",
    "    # convert to lowercase\n",
    "    text = [word.lower() for word in text]\n",
    "    # remove punctuation from each token\n",
    "    text = [word.translate(table) for word in text]\n",
    "    # remove non-printable chars form each token\n",
    "    text = [re_print.sub('', w) for w in text]\n",
    "    # remove tokens with numbers in them\n",
    "    text = [word for word in text if word.isalpha()]\n",
    "    \n",
    "    return ' '.join(text)"
   ]
  },
  {
   "cell_type": "markdown",
   "metadata": {},
   "source": [
    "create a clean format of the data(french and english)"
   ]
  },
  {
   "cell_type": "code",
   "execution_count": 5,
   "metadata": {},
   "outputs": [],
   "source": [
    "french = [clean_txt(text) for text in df[1]]\n",
    "english = [clean_txt(text) for text in df[0]]"
   ]
  },
  {
   "cell_type": "code",
   "execution_count": 6,
   "metadata": {},
   "outputs": [
    {
     "data": {
      "text/plain": [
       "'va'"
      ]
     },
     "execution_count": 6,
     "metadata": {},
     "output_type": "execute_result"
    }
   ],
   "source": [
    "french[0]"
   ]
  },
  {
   "cell_type": "markdown",
   "metadata": {},
   "source": [
    "## Split the data"
   ]
  },
  {
   "cell_type": "code",
   "execution_count": 7,
   "metadata": {},
   "outputs": [],
   "source": [
    "from sklearn.model_selection import train_test_split"
   ]
  },
  {
   "cell_type": "code",
   "execution_count": 8,
   "metadata": {},
   "outputs": [],
   "source": [
    "fra_train,fra_test,eng_train,eng_test= train_test_split(french,english,test_size=0.1,random_state=5)"
   ]
  },
  {
   "cell_type": "code",
   "execution_count": 9,
   "metadata": {},
   "outputs": [],
   "source": [
    "fra_train,fra_val,eng_train,eng_val = train_test_split(fra_train,eng_train,test_size=0.1,random_state=5)"
   ]
  },
  {
   "cell_type": "code",
   "execution_count": 10,
   "metadata": {},
   "outputs": [
    {
     "name": "stdout",
     "output_type": "stream",
     "text": [
      "fra_train 1620\n",
      "eng_test 200\n",
      "fra_val 180\n"
     ]
    }
   ],
   "source": [
    "print(\"fra_train\",len(fra_train))\n",
    "print(\"eng_test\",len(eng_test))\n",
    "print(\"fra_val\",len(fra_val))"
   ]
  },
  {
   "cell_type": "code",
   "execution_count": 11,
   "metadata": {},
   "outputs": [],
   "source": [
    "def max_length(lines):\n",
    "    length = [ len(line) for line in lines]\n",
    "    return max(length)"
   ]
  },
  {
   "cell_type": "code",
   "execution_count": 12,
   "metadata": {},
   "outputs": [
    {
     "name": "stdout",
     "output_type": "stream",
     "text": [
      "max french length 34\n",
      "max_english length 11\n"
     ]
    }
   ],
   "source": [
    "max_french_len = max_length(french)\n",
    "max_english_len = max_length(english)\n",
    "\n",
    "print(\"max french length\",max_french_len)\n",
    "print(\"max_english length\",max_english_len)"
   ]
  },
  {
   "cell_type": "markdown",
   "metadata": {},
   "source": [
    "## Utility function for data encoding and decoding"
   ]
  },
  {
   "cell_type": "code",
   "execution_count": 1,
   "metadata": {},
   "outputs": [],
   "source": [
    "import numpy as np\n",
    "\n",
    "CHAR_CODE_START = 1\n",
    "CHAR_CODE_PADDING = 0\n",
    "\n",
    "\n",
    "def build_characters_encoding(names):\n",
    "    \n",
    "    count = 2\n",
    "    encoding = {}\n",
    "    decoding = {1: 'START'}\n",
    "    for c in set([c for name in names for c in name]):\n",
    "        encoding[c] = count\n",
    "        decoding[count] = c\n",
    "        count += 1\n",
    "    return encoding, decoding, count\n",
    "\n",
    "\n",
    "def transform(encoding, data, vector_size):\n",
    "   \n",
    "    transformed_data = np.zeros(shape=(len(data), vector_size))\n",
    "    for i in range(len(data)):\n",
    "        for j in range(min(len(data[i]), vector_size)):\n",
    "            transformed_data[i][j] = encoding[data[i][j]]\n",
    "    return transformed_data\n",
    "\n",
    "\n",
    "def decode(decoding, vector):\n",
    "   \n",
    "    text = ''\n",
    "    for i in vector:\n",
    "        if i == 0:\n",
    "            break\n",
    "        text += decoding[i]\n",
    "    return text"
   ]
  },
  {
   "cell_type": "code",
   "execution_count": 14,
   "metadata": {},
   "outputs": [],
   "source": [
    "INPUT_LENGTH = max_french_len\n",
    "OUTPUT_LENGTH = max_english_len"
   ]
  },
  {
   "cell_type": "markdown",
   "metadata": {},
   "source": [
    "## vectorize the generated data"
   ]
  },
  {
   "cell_type": "code",
   "execution_count": 15,
   "metadata": {},
   "outputs": [
    {
     "name": "stdout",
     "output_type": "stream",
     "text": [
      "franch character dict size: 28\n",
      "english character dict size: 29\n",
      "encoded_training_input (1620, 34)\n",
      "encoded_training_output (1620, 11)\n",
      "encoded_validation_input (180, 34)\n",
      "encoded_validation_output (180, 11)\n"
     ]
    }
   ],
   "source": [
    "input_encoding, input_decoding, input_dict_size = build_characters_encoding(french)\n",
    "output_encoding, output_decoding, output_dict_size = build_characters_encoding(english)\n",
    "\n",
    "print('franch character dict size:', input_dict_size)\n",
    "print('english character dict size:', output_dict_size)\n",
    "\n",
    "encoded_training_input = transform(\n",
    "    input_encoding, fra_train, vector_size=INPUT_LENGTH)\n",
    "encoded_training_output = transform(\n",
    "    output_encoding, eng_train, vector_size=OUTPUT_LENGTH)\n",
    "print('encoded_training_input', encoded_training_input.shape)\n",
    "print('encoded_training_output', encoded_training_output.shape)\n",
    "\n",
    "encoded_validation_input = transform(\n",
    "    input_encoding, fra_val, vector_size=INPUT_LENGTH)\n",
    "encoded_validation_output = transform(\n",
    "    output_encoding, eng_val, vector_size=OUTPUT_LENGTH)\n",
    "\n",
    "print('encoded_validation_input', encoded_validation_input.shape)\n",
    "print('encoded_validation_output', encoded_validation_output.shape)"
   ]
  },
  {
   "cell_type": "code",
   "execution_count": 16,
   "metadata": {},
   "outputs": [
    {
     "data": {
      "text/plain": [
       "{'d': 2,\n",
       " 'q': 3,\n",
       " 's': 4,\n",
       " ' ': 5,\n",
       " 'b': 6,\n",
       " 'a': 7,\n",
       " 'h': 8,\n",
       " 'l': 9,\n",
       " 't': 10,\n",
       " 'r': 11,\n",
       " 'p': 12,\n",
       " 'g': 13,\n",
       " 'v': 14,\n",
       " 'i': 15,\n",
       " 'k': 16,\n",
       " 'x': 17,\n",
       " 'u': 18,\n",
       " 'z': 19,\n",
       " 'c': 20,\n",
       " 'e': 21,\n",
       " 'j': 22,\n",
       " 'o': 23,\n",
       " 'n': 24,\n",
       " 'm': 25,\n",
       " 'f': 26,\n",
       " 'y': 27}"
      ]
     },
     "execution_count": 16,
     "metadata": {},
     "output_type": "execute_result"
    }
   ],
   "source": [
    "input_encoding"
   ]
  },
  {
   "cell_type": "code",
   "execution_count": 17,
   "metadata": {},
   "outputs": [
    {
     "data": {
      "text/plain": [
       "(array([ 8., 26.,  6., 16.,  6.,  4., 12., 24., 25., 14.,  0.]),\n",
       " array([ 7., 15., 22., 21.,  5., 10., 23., 11., 10.,  0.,  0.,  0.,  0.,\n",
       "         0.,  0.,  0.,  0.,  0.,  0.,  0.,  0.,  0.,  0.,  0.,  0.,  0.,\n",
       "         0.,  0.,  0.,  0.,  0.,  0.,  0.,  0.]))"
      ]
     },
     "execution_count": 17,
     "metadata": {},
     "output_type": "execute_result"
    }
   ],
   "source": [
    "encoded_training_output[1],encoded_training_input[1]"
   ]
  },
  {
   "cell_type": "markdown",
   "metadata": {},
   "source": [
    "## Define the model"
   ]
  },
  {
   "cell_type": "code",
   "execution_count": 18,
   "metadata": {},
   "outputs": [],
   "source": [
    "from tensorflow.keras.layers import Input, Embedding, LSTM, TimeDistributed, Dense\n",
    "from tensorflow.keras.models import Model, load_model"
   ]
  },
  {
   "cell_type": "code",
   "execution_count": 19,
   "metadata": {},
   "outputs": [],
   "source": [
    "encoder_input = Input(shape=(INPUT_LENGTH,))\n",
    "decoder_input = Input(shape=(OUTPUT_LENGTH,))"
   ]
  },
  {
   "cell_type": "code",
   "execution_count": 32,
   "metadata": {},
   "outputs": [
    {
     "name": "stdout",
     "output_type": "stream",
     "text": [
      "encoder Tensor(\"lstm_19/transpose_2:0\", shape=(?, 34, 256), dtype=float32)\n",
      "state_h Tensor(\"lstm_19/while/Exit_3:0\", shape=(?, 256), dtype=float32)\n",
      "state_c Tensor(\"lstm_19/while/Exit_4:0\", shape=(?, 256), dtype=float32)\n",
      "decoder Tensor(\"lstm_21/transpose_2:0\", shape=(?, 11, 256), dtype=float32)\n"
     ]
    }
   ],
   "source": [
    "encoder = Embedding(input_dict_size, 256, input_length=INPUT_LENGTH, mask_zero=True)(encoder_input)\n",
    "encoder,state_h1,state_c1 = LSTM(256,return_sequences=True,return_state=True)(encoder)\n",
    "encoder , state_h,state_c = LSTM(256, return_sequences=True, return_state=True)(encoder)\n",
    "\n",
    "\n",
    "print('encoder', encoder)\n",
    "print('state_h',state_h)\n",
    "print('state_c', state_c)\n",
    "\n",
    "decoder = Embedding(output_dict_size, 256, input_length=OUTPUT_LENGTH, mask_zero=True)(decoder_input)\n",
    "decoder = LSTM(256, return_sequences=True)(decoder, initial_state=[state_h1, state_c1])\n",
    "decoder = LSTM(256,return_sequences=True)(decoder,initial_state=[state_h,state_c])\n",
    "\n",
    "print('decoder', decoder)"
   ]
  },
  {
   "cell_type": "code",
   "execution_count": 33,
   "metadata": {},
   "outputs": [
    {
     "name": "stdout",
     "output_type": "stream",
     "text": [
      "attention Tensor(\"attention_1/truediv:0\", shape=(?, 11, 34), dtype=float32)\n",
      "context Tensor(\"dot_3/MatMul:0\", shape=(?, 11, 256), dtype=float32)\n",
      "decoder_combined_context Tensor(\"concatenate_1/concat:0\", shape=(?, 11, 512), dtype=float32)\n",
      "output Tensor(\"time_distributed_3/Reshape_1:0\", shape=(?, 11, 29), dtype=float32)\n"
     ]
    }
   ],
   "source": [
    "from tensorflow.keras.layers import Activation, dot, concatenate\n",
    "\n",
    "# Equation (7) with 'dot' score from Section 3.1 in the paper.\n",
    "# Note that we reuse Softmax-activation layer instead of writing tensor calculation\n",
    "attention = dot([decoder, encoder], axes=[2, 2])\n",
    "attention = Activation('softmax', name='attention')(attention)\n",
    "print('attention', attention)\n",
    "\n",
    "context = dot([attention, encoder], axes=[2,1])\n",
    "print('context', context)\n",
    "\n",
    "decoder_combined_context = concatenate([context, decoder])\n",
    "print('decoder_combined_context', decoder_combined_context)\n",
    "\n",
    "# Has another weight + tanh layer as described in equation (5) of the paper\n",
    "output = TimeDistributed(Dense(64, activation=\"tanh\"))(decoder_combined_context)\n",
    "output = TimeDistributed(Dense(output_dict_size, activation=\"softmax\"))(output)\n",
    "print('output', output)\n"
   ]
  },
  {
   "cell_type": "code",
   "execution_count": 34,
   "metadata": {},
   "outputs": [],
   "source": [
    "model = Model(inputs=[encoder_input, decoder_input], outputs=[output])\n",
    "model.compile(optimizer='adam', loss='binary_crossentropy')"
   ]
  },
  {
   "cell_type": "code",
   "execution_count": 35,
   "metadata": {},
   "outputs": [],
   "source": [
    "training_encoder_input = encoded_training_input\n",
    "training_decoder_input = np.zeros_like(encoded_training_output)\n",
    "training_decoder_input[:, 1:] = encoded_training_output[:,:-1]\n",
    "training_decoder_input[:, 0] = CHAR_CODE_START\n",
    "training_decoder_output = np.eye(output_dict_size)[encoded_training_output.astype('int')]\n",
    "\n",
    "validation_encoder_input = encoded_validation_input\n",
    "validation_decoder_input = np.zeros_like(encoded_validation_output)\n",
    "validation_decoder_input[:, 1:] = encoded_validation_output[:,:-1]\n",
    "validation_decoder_input[:, 0] = CHAR_CODE_START\n",
    "validation_decoder_output = np.eye(output_dict_size)[encoded_validation_output.astype('int')]"
   ]
  },
  {
   "cell_type": "code",
   "execution_count": 36,
   "metadata": {},
   "outputs": [
    {
     "data": {
      "text/plain": [
       "(1620, 11, 29)"
      ]
     },
     "execution_count": 36,
     "metadata": {},
     "output_type": "execute_result"
    }
   ],
   "source": [
    "training_decoder_output.shape"
   ]
  },
  {
   "cell_type": "code",
   "execution_count": 37,
   "metadata": {},
   "outputs": [
    {
     "name": "stderr",
     "output_type": "stream",
     "text": [
      "/home/longbridge/tensorflow3/venv3/lib/python3.6/site-packages/tensorflow/python/ops/gradients_impl.py:108: UserWarning: Converting sparse IndexedSlices to a dense Tensor of unknown shape. This may consume a large amount of memory.\n",
      "  \"Converting sparse IndexedSlices to a dense Tensor of unknown shape. \"\n"
     ]
    },
    {
     "name": "stdout",
     "output_type": "stream",
     "text": [
      "Train on 1620 samples, validate on 180 samples\n",
      "Epoch 1/30\n",
      "1620/1620 [==============================] - 38s 23ms/step - loss: 0.1318 - val_loss: 0.1260\n",
      "Epoch 2/30\n",
      "1620/1620 [==============================] - 31s 19ms/step - loss: 0.1261 - val_loss: 0.1239\n",
      "Epoch 3/30\n",
      "1620/1620 [==============================] - 32s 20ms/step - loss: 0.1215 - val_loss: 0.1182\n",
      "Epoch 4/30\n",
      "1620/1620 [==============================] - 32s 20ms/step - loss: 0.1162 - val_loss: 0.1138\n",
      "Epoch 5/30\n",
      "1620/1620 [==============================] - 32s 20ms/step - loss: 0.1114 - val_loss: 0.1075\n",
      "Epoch 6/30\n",
      "1620/1620 [==============================] - 31s 19ms/step - loss: 0.1061 - val_loss: 0.1034\n",
      "Epoch 7/30\n",
      "1620/1620 [==============================] - 31s 19ms/step - loss: 0.1017 - val_loss: 0.0999\n",
      "Epoch 8/30\n",
      "1620/1620 [==============================] - 31s 19ms/step - loss: 0.0984 - val_loss: 0.0964\n",
      "Epoch 9/30\n",
      "1620/1620 [==============================] - 31s 19ms/step - loss: 0.0949 - val_loss: 0.0924\n",
      "Epoch 10/30\n",
      "1620/1620 [==============================] - 30s 19ms/step - loss: 0.0903 - val_loss: 0.0894\n",
      "Epoch 11/30\n",
      "1620/1620 [==============================] - 32s 20ms/step - loss: 0.0859 - val_loss: 0.0864\n",
      "Epoch 12/30\n",
      "1620/1620 [==============================] - 33s 20ms/step - loss: 0.0826 - val_loss: 0.0820\n",
      "Epoch 13/30\n",
      "1620/1620 [==============================] - 30s 19ms/step - loss: 0.0780 - val_loss: 0.0792\n",
      "Epoch 14/30\n",
      "1620/1620 [==============================] - 32s 20ms/step - loss: 0.0744 - val_loss: 0.0766\n",
      "Epoch 15/30\n",
      "1620/1620 [==============================] - 31s 19ms/step - loss: 0.0704 - val_loss: 0.0745\n",
      "Epoch 16/30\n",
      "1620/1620 [==============================] - 30s 19ms/step - loss: 0.0660 - val_loss: 0.0711\n",
      "Epoch 17/30\n",
      "1620/1620 [==============================] - 31s 19ms/step - loss: 0.0623 - val_loss: 0.0696\n",
      "Epoch 18/30\n",
      "1620/1620 [==============================] - 31s 19ms/step - loss: 0.0582 - val_loss: 0.0653\n",
      "Epoch 19/30\n",
      "1620/1620 [==============================] - 31s 19ms/step - loss: 0.0538 - val_loss: 0.0634\n",
      "Epoch 20/30\n",
      "1620/1620 [==============================] - 31s 19ms/step - loss: 0.0502 - val_loss: 0.0610\n",
      "Epoch 21/30\n",
      "1620/1620 [==============================] - 32s 20ms/step - loss: 0.0463 - val_loss: 0.0590\n",
      "Epoch 22/30\n",
      "1620/1620 [==============================] - 33s 20ms/step - loss: 0.0426 - val_loss: 0.0571\n",
      "Epoch 23/30\n",
      "1620/1620 [==============================] - 32s 20ms/step - loss: 0.0396 - val_loss: 0.0577\n",
      "Epoch 24/30\n",
      "1620/1620 [==============================] - 32s 20ms/step - loss: 0.0364 - val_loss: 0.0555\n",
      "Epoch 25/30\n",
      "1620/1620 [==============================] - 33s 20ms/step - loss: 0.0334 - val_loss: 0.0542\n",
      "Epoch 26/30\n",
      "1620/1620 [==============================] - 32s 20ms/step - loss: 0.0299 - val_loss: 0.0524\n",
      "Epoch 27/30\n",
      "1620/1620 [==============================] - 30s 19ms/step - loss: 0.0266 - val_loss: 0.0512\n",
      "Epoch 28/30\n",
      "1620/1620 [==============================] - 30s 19ms/step - loss: 0.0239 - val_loss: 0.0512\n",
      "Epoch 29/30\n",
      "1620/1620 [==============================] - 30s 19ms/step - loss: 0.0213 - val_loss: 0.0518\n",
      "Epoch 30/30\n",
      "1620/1620 [==============================] - 30s 19ms/step - loss: 0.0189 - val_loss: 0.0504\n",
      "WARNING:tensorflow:Layer lstm_20 was passed non-serializable keyword arguments: {'initial_state': [<tf.Tensor 'lstm_18/while/Exit_3:0' shape=(?, 256) dtype=float32>, <tf.Tensor 'lstm_18/while/Exit_4:0' shape=(?, 256) dtype=float32>]}. They will not be included in the serialized model (and thus will be missing at deserialization time).\n",
      "WARNING:tensorflow:Layer lstm_21 was passed non-serializable keyword arguments: {'initial_state': [<tf.Tensor 'lstm_19/while/Exit_3:0' shape=(?, 256) dtype=float32>, <tf.Tensor 'lstm_19/while/Exit_4:0' shape=(?, 256) dtype=float32>]}. They will not be included in the serialized model (and thus will be missing at deserialization time).\n"
     ]
    }
   ],
   "source": [
    "import os\n",
    "if os.path.isfile('modelfra7.h5'):\n",
    "    print(\"cool\")\n",
    "    model = load_model('modelfra7.h5')\n",
    "else:\n",
    "    history = model.fit(x=[training_encoder_input, training_decoder_input], y=[training_decoder_output],\n",
    "          validation_data=([validation_encoder_input, validation_decoder_input], [validation_decoder_output]), batch_size=80, epochs=30)\n",
    "    \n",
    "model.save(\"modelfra7.h5\")"
   ]
  },
  {
   "cell_type": "code",
   "execution_count": 38,
   "metadata": {},
   "outputs": [
    {
     "name": "stdout",
     "output_type": "stream",
     "text": [
      "__________________________________________________________________________________________________\n",
      "Layer (type)                    Output Shape         Param #     Connected to                     \n",
      "==================================================================================================\n",
      "input_1 (InputLayer)            (None, 34)           0                                            \n",
      "__________________________________________________________________________________________________\n",
      "input_2 (InputLayer)            (None, 11)           0                                            \n",
      "__________________________________________________________________________________________________\n",
      "embedding_10 (Embedding)        (None, 34, 256)      7168        input_1[0][0]                    \n",
      "__________________________________________________________________________________________________\n",
      "embedding_11 (Embedding)        (None, 11, 256)      7424        input_2[0][0]                    \n",
      "__________________________________________________________________________________________________\n",
      "lstm_18 (LSTM)                  [(None, 34, 256), (N 525312      embedding_10[0][0]               \n",
      "__________________________________________________________________________________________________\n",
      "lstm_20 (LSTM)                  (None, 11, 256)      525312      embedding_11[0][0]               \n",
      "                                                                 lstm_18[0][1]                    \n",
      "                                                                 lstm_18[0][2]                    \n",
      "__________________________________________________________________________________________________\n",
      "lstm_19 (LSTM)                  [(None, 34, 256), (N 525312      lstm_18[0][0]                    \n",
      "__________________________________________________________________________________________________\n",
      "lstm_21 (LSTM)                  (None, 11, 256)      525312      lstm_20[0][0]                    \n",
      "                                                                 lstm_19[0][1]                    \n",
      "                                                                 lstm_19[0][2]                    \n",
      "__________________________________________________________________________________________________\n",
      "dot_2 (Dot)                     (None, 11, 34)       0           lstm_21[0][0]                    \n",
      "                                                                 lstm_19[0][0]                    \n",
      "__________________________________________________________________________________________________\n",
      "attention (Activation)          (None, 11, 34)       0           dot_2[0][0]                      \n",
      "__________________________________________________________________________________________________\n",
      "dot_3 (Dot)                     (None, 11, 256)      0           attention[0][0]                  \n",
      "                                                                 lstm_19[0][0]                    \n",
      "__________________________________________________________________________________________________\n",
      "concatenate_1 (Concatenate)     (None, 11, 512)      0           dot_3[0][0]                      \n",
      "                                                                 lstm_21[0][0]                    \n",
      "__________________________________________________________________________________________________\n",
      "time_distributed_2 (TimeDistrib (None, 11, 64)       32832       concatenate_1[0][0]              \n",
      "__________________________________________________________________________________________________\n",
      "time_distributed_3 (TimeDistrib (None, 11, 29)       1885        time_distributed_2[0][0]         \n",
      "==================================================================================================\n",
      "Total params: 2,150,557\n",
      "Trainable params: 2,150,557\n",
      "Non-trainable params: 0\n",
      "__________________________________________________________________________________________________\n"
     ]
    }
   ],
   "source": [
    "model.summary()"
   ]
  },
  {
   "cell_type": "code",
   "execution_count": 39,
   "metadata": {},
   "outputs": [],
   "source": [
    "def generate(text):\n",
    "    encoder_input = transform(input_encoding, [text.lower()], INPUT_LENGTH)\n",
    "    decoder_input = np.zeros(shape=(len(encoder_input), OUTPUT_LENGTH))\n",
    "    decoder_input[:,0] = CHAR_CODE_START\n",
    "    for i in range(1, OUTPUT_LENGTH):\n",
    "        output = model.predict([encoder_input, decoder_input]).argmax(axis=2)\n",
    "        decoder_input[:,i] = output[:,i]\n",
    "    return decoder_input[:,1:]\n",
    "\n",
    "def decode(decoding, sequence):\n",
    "    text = ''\n",
    "    for i in sequence:\n",
    "        if i == 0:\n",
    "            break\n",
    "        text += output_decoding[i]\n",
    "    return text\n",
    "\n",
    "def to_eng(text):\n",
    "    decoder_output = generate(text)\n",
    "    return decode(output_decoding, decoder_output[0])"
   ]
  },
  {
   "cell_type": "code",
   "execution_count": 40,
   "metadata": {},
   "outputs": [
    {
     "name": "stdout",
     "output_type": "stream",
     "text": [
      "french=>[ dites sil vous plait ] english=> [ say please ] predicted=>[ say please ]\n",
      "french=>[ aije tort ] english=> [ am i wrong ] predicted=>[ he is go ]\n",
      "french=>[ laissele tomber ] english=> [ drop it ] predicted=>[ let me in ]\n",
      "french=>[ tom muera ] english=> [ tom died ] predicted=>[ tom is me ]\n",
      "french=>[ a tes souhaits ] english=> [ bless you ] predicted=>[ bires sid ]\n",
      "french=>[ reveilletoi ] english=> [ wake up ] predicted=>[ wake up ]\n",
      "french=>[ tom est sourd ] english=> [ toms deaf ] predicted=>[ toms dead ]\n",
      "french=>[ je la connais ] english=> [ i know her ] predicted=>[ i won home ]\n",
      "french=>[ tu es vieille ] english=> [ youre old ] predicted=>[ youre old ]\n",
      "french=>[ habillezvous ] english=> [ get dressed ] predicted=>[ get dresse ]\n",
      "french=>[ qui la fait ] english=> [ who did it ] predicted=>[ who did it ]\n",
      "french=>[ je lapprecie ] english=> [ i like him ] predicted=>[ i like it ]\n",
      "french=>[ faisle comme il faut ] english=> [ do it right ] predicted=>[ do it righ ]\n",
      "french=>[ attrapezle ] english=> [ grab him ] predicted=>[ grab him ]\n",
      "french=>[ le plein ] english=> [ fill it up ] predicted=>[ stel lone ]\n",
      "french=>[ sois prudente ] english=> [ be careful ] predicted=>[ be careful ]\n",
      "french=>[ qui la ] english=> [ who has it ] predicted=>[ who has it ]\n",
      "french=>[ arretez ] english=> [ cut it out ] predicted=>[ cut it out ]\n",
      "french=>[ je suis grassouillet ] english=> [ im chubby ] predicted=>[ im shad ]\n",
      "french=>[ nous sommes des hommes ] english=> [ we are men ] predicted=>[ we are men ]\n",
      "french=>[ soyez prudent ] english=> [ be watchful ] predicted=>[ be careful ]\n",
      "french=>[ estil lheure ] english=> [ is it time ] predicted=>[ is it sad ]\n",
      "french=>[ fais un petit somme ] english=> [ take a nap ] predicted=>[ take a nep ]\n",
      "french=>[ il a mon age ] english=> [ hes my age ] predicted=>[ he is work ]\n",
      "french=>[ il etait occupe ] english=> [ he was busy ] predicted=>[ he has bus ]\n",
      "french=>[ sens ca ] english=> [ smell this ] predicted=>[ smell this ]\n",
      "french=>[ tom est rapide ] english=> [ toms fast ] predicted=>[ toms fast ]\n",
      "french=>[ jai gagne ] english=> [ ive won ] predicted=>[ i won ]\n",
      "french=>[ ne saute pas ] english=> [ dont jump ] predicted=>[ dont lie ]\n",
      "french=>[ ne quittez pas ] english=> [ dont leave ] predicted=>[ dont shoot ]\n",
      "french=>[ qui estce ] english=> [ whos that ] predicted=>[ who is it ]\n",
      "french=>[ il est paresseux ] english=> [ he is lazy ] predicted=>[ he is late ]\n",
      "french=>[ ralentis ] english=> [ slow down ] predicted=>[ slow down ]\n",
      "french=>[ nous sommes quittes ] english=> [ were even ] predicted=>[ were busy ]\n",
      "french=>[ arrete de mentir ] english=> [ stop lying ] predicted=>[ stop liet ]\n",
      "french=>[ jespere que non ] english=> [ i hope not ] predicted=>[ i hope not ]\n",
      "french=>[ je suis alite ] english=> [ im in bed ] predicted=>[ im in bed ]\n",
      "french=>[ soyez gentils ] english=> [ be nice ] predicted=>[ be nice ]\n",
      "french=>[ genial ] english=> [ terrific ] predicted=>[ territ it ]\n",
      "french=>[ je ne puis le dire ] english=> [ i cant say ] predicted=>[ i cant say ]\n",
      "french=>[ ne ten fais pas ] english=> [ dont worry ] predicted=>[ dont shoot ]\n",
      "french=>[ restez tranquille ] english=> [ keep still ] predicted=>[ keep quiet ]\n",
      "french=>[ cest bibi ] english=> [ its me ] predicted=>[ its here ]\n",
      "french=>[ attends la ] english=> [ wait here ] predicted=>[ wait here ]\n",
      "french=>[ ne bouge pas ] english=> [ stay still ] predicted=>[ dont move ]\n",
      "french=>[ comment tom vatil ] english=> [ hows tom ] predicted=>[ hows tom ]\n",
      "french=>[ je lai vu ] english=> [ i saw him ] predicted=>[ i saw him ]\n",
      "french=>[ jen veux une ] english=> [ i want one ] predicted=>[ i want one ]\n",
      "french=>[ lachetoi ] english=> [ get down ] predicted=>[ get down ]\n",
      "french=>[ arrete ton char ] english=> [ come off it ] predicted=>[ come off i ]\n",
      "french=>[ laissezle tomber ] english=> [ drop it ] predicted=>[ let me in ]\n",
      "french=>[ essaie ceci ] english=> [ try this ] predicted=>[ try this ]\n",
      "french=>[ je lai apprecie ] english=> [ i liked it ] predicted=>[ i liked it ]\n",
      "french=>[ je vivrai ] english=> [ ill live ] predicted=>[ ill help ]\n",
      "french=>[ cest le sien ] english=> [ thats his ] predicted=>[ its his ]\n",
      "french=>[ je fus bonne ] english=> [ i was good ] predicted=>[ im akay ]\n",
      "french=>[ je tadore ] english=> [ i love you ] predicted=>[ i love you ]\n",
      "french=>[ allons ] english=> [ lets go ] predicted=>[ lets go ]\n",
      "french=>[ je fais de lexercice ] english=> [ i work out ] predicted=>[ i have wel ]\n",
      "french=>[ soyez amicaux ] english=> [ be friendly ] predicted=>[ be friendl ]\n",
      "french=>[ cest la tienne ] english=> [ its yours ] predicted=>[ its his ]\n",
      "french=>[ je lai achete ] english=> [ i bought it ] predicted=>[ i was him ]\n",
      "french=>[ je suis reposee ] english=> [ im rested ] predicted=>[ im sorry ]\n",
      "french=>[ je suis tatillon ] english=> [ im fussy ] predicted=>[ im sing ]\n",
      "french=>[ tes marrant ] english=> [ youre fun ] predicted=>[ youre fun ]\n",
      "french=>[ astu chaud ] english=> [ are you hot ] predicted=>[ are you ho ]\n",
      "french=>[ jaccepterais ] english=> [ id accept ] predicted=>[ ill way ]\n",
      "french=>[ lance une piece ] english=> [ flip a coin ] predicted=>[ go away it ]\n",
      "french=>[ elles sont tombees ] english=> [ they fell ] predicted=>[ they fill ]\n",
      "french=>[ comment ca va ] english=> [ how are you ] predicted=>[ how are yo ]\n",
      "french=>[ je suis tranquille ] english=> [ im quiet ] predicted=>[ im fussy ]\n",
      "french=>[ nous sommes en securite ] english=> [ were safe ] predicted=>[ were safe ]\n",
      "french=>[ cest calme ] english=> [ its quiet ] predicted=>[ its hers ]\n",
      "french=>[ degage ] english=> [ beat it ] predicted=>[ go away ]\n",
      "french=>[ cest exclu ] english=> [ no way ] predicted=>[ its sall ]\n",
      "french=>[ nous marcherons ] english=> [ well walk ] predicted=>[ well walk ]\n",
      "french=>[ je suis faible ] english=> [ i am weak ] predicted=>[ im alive ]\n",
      "french=>[ je suis certain ] english=> [ i am sure ] predicted=>[ im sure ]\n",
      "french=>[ jai du pot ] english=> [ im lucky ] predicted=>[ i lost ]\n",
      "french=>[ ne parle pas ] english=> [ dont talk ] predicted=>[ dont go in ]\n",
      "french=>[ je suis chanceux ] english=> [ im lucky ] predicted=>[ im lazy ]\n",
      "french=>[ nous lavons fait ] english=> [ we did it ] predicted=>[ we saw it ]\n",
      "french=>[ cest un beau gosse ] english=> [ hes a hunk ] predicted=>[ hes a wank ]\n",
      "french=>[ sois clemente ] english=> [ be merciful ] predicted=>[ be mercifu ]\n",
      "french=>[ je les rencontrai ] english=> [ i met them ] predicted=>[ i i lot it ]\n",
      "french=>[ a la revoyure ] english=> [ goodbye ] predicted=>[ good up ]\n",
      "french=>[ cest de la nourriture ] english=> [ its food ] predicted=>[ its foul ]\n",
      "french=>[ estce difficile ] english=> [ is it hard ] predicted=>[ is it hard ]\n",
      "french=>[ comment il va ] english=> [ how are you ] predicted=>[ how are yo ]\n",
      "french=>[ je lai construite ] english=> [ i built it ] predicted=>[ i built it ]\n",
      "french=>[ je me suis senti mal ] english=> [ i felt bad ] predicted=>[ i am a sok ]\n",
      "french=>[ beau travail ] english=> [ good job ] predicted=>[ good lob ]\n",
      "french=>[ me voici ] english=> [ here i come ] predicted=>[ here i is ]\n",
      "french=>[ magnifique ] english=> [ wonderful ] predicted=>[ wonderful ]\n",
      "french=>[ nous lavons fait ] english=> [ we made it ] predicted=>[ we saw it ]\n",
      "french=>[ tom ronfle ] english=> [ tom snores ] predicted=>[ tom snores ]\n",
      "french=>[ filez ] english=> [ run for it ] predicted=>[ run for it ]\n",
      "french=>[ soyez prete ] english=> [ be prepared ] predicted=>[ be prepare ]\n",
      "french=>[ nous le voulons ] english=> [ we want it ] predicted=>[ we want it ]\n",
      "french=>[ nattendez pas ] english=> [ dont wait ] predicted=>[ dont wait ]\n"
     ]
    }
   ],
   "source": [
    "for f_t,e_t in zip(fra_train[:100],eng_train[:100]):\n",
    "    \n",
    "    text = to_eng(f_t)\n",
    "    print(\"french=>[\",f_t,\"] english=> [\",e_t,\"] predicted=>[\",text,\"]\")"
   ]
  },
  {
   "cell_type": "code",
   "execution_count": 58,
   "metadata": {},
   "outputs": [
    {
     "name": "stdout",
     "output_type": "stream",
     "text": [
      "french=>[ sans facons ] english=> [ no way ] predicted=>[ sit down ]\n",
      "french=>[ estce de lamour ] english=> [ is it love ] predicted=>[ is it love ]\n",
      "french=>[ metstoi a labri ] english=> [ take cover ] predicted=>[ is it go ]\n",
      "french=>[ maman pleurait ] english=> [ mama cried ] predicted=>[ loke lome ]\n",
      "french=>[ qui est mort ] english=> [ who died ] predicted=>[ who was yo ]\n",
      "french=>[ jai compris ] english=> [ i got it ] predicted=>[ i liked it ]\n",
      "french=>[ nous avons ete defaites ] english=> [ we lost ] predicted=>[ we lost ]\n",
      "french=>[ il est soul ] english=> [ he is drunk ] predicted=>[ hes rishd ]\n",
      "french=>[ cest important ] english=> [ it matters ] predicted=>[ its fun ]\n",
      "french=>[ laisse tomber ] english=> [ come off it ] predicted=>[ leave it ]\n",
      "french=>[ pouvonsnous nous en aller ] english=> [ can we go ] predicted=>[ can we tal ]\n",
      "french=>[ embrassemoi ] english=> [ kiss me ] predicted=>[ stay asmee ]\n",
      "french=>[ va chez toi maintenant ] english=> [ go home now ] predicted=>[ go home no ]\n",
      "french=>[ reculetoi ] english=> [ stand back ] predicted=>[ back off ]\n",
      "french=>[ jai echoue ] english=> [ i failed ] predicted=>[ i saw one ]\n",
      "french=>[ je suis chanceuse ] english=> [ im lucky ] predicted=>[ im lazy ]\n",
      "french=>[ sois misericordieux ] english=> [ be merciful ] predicted=>[ be mercifu ]\n",
      "french=>[ va au lit ] english=> [ go to bed ] predicted=>[ get to bed ]\n",
      "french=>[ le temps senvole ] english=> [ time flies ] predicted=>[ time is up ]\n",
      "french=>[ tas capte ] english=> [ got it ] predicted=>[ be careful ]\n",
      "french=>[ nous vous avons vue ] english=> [ we saw you ] predicted=>[ we saw it ]\n",
      "french=>[ jabandonnerai ] english=> [ ill quit ] predicted=>[ ill go in ]\n",
      "french=>[ ne triche pas ] english=> [ dont cheat ] predicted=>[ dont shoot ]\n",
      "french=>[ je mange seul ] english=> [ i eat alone ] predicted=>[ i love it ]\n",
      "french=>[ sois prudent ] english=> [ be watchful ] predicted=>[ be careful ]\n",
      "french=>[ tenezvous pret ] english=> [ be prepared ] predicted=>[ be prepare ]\n",
      "french=>[ je suis mouille ] english=> [ im wet ] predicted=>[ im alive ]\n",
      "french=>[ excusemoi ] english=> [ im sorry ] predicted=>[ talk to me ]\n",
      "french=>[ je passerai ] english=> [ ill pass ] predicted=>[ ill love ]\n",
      "french=>[ je peux lire ] english=> [ i can read ] predicted=>[ i am a wor ]\n",
      "french=>[ jai tente ] english=> [ ive tried ] predicted=>[ i was good ]\n",
      "french=>[ regarde ] english=> [ have a look ] predicted=>[ look at it ]\n",
      "french=>[ soyez prudent ] english=> [ be careful ] predicted=>[ be careful ]\n",
      "french=>[ serieusement ] english=> [ seriously ] predicted=>[ be prepare ]\n",
      "french=>[ trouve un emploi ] english=> [ get a job ] predicted=>[ find a job ]\n",
      "french=>[ attends un peu ] english=> [ hang on ] predicted=>[ wait a sep ]\n",
      "french=>[ sois clement ] english=> [ be merciful ] predicted=>[ be mercifu ]\n",
      "french=>[ elle est venue ] english=> [ she came ] predicted=>[ shes lost ]\n",
      "french=>[ je vais travailler ] english=> [ ill work ] predicted=>[ i can swim ]\n",
      "french=>[ etesvous leve ] english=> [ are you up ] predicted=>[ are you up ]\n",
      "french=>[ disparais ] english=> [ go away ] predicted=>[ lets preas ]\n",
      "french=>[ sauvetoi ] english=> [ run for it ] predicted=>[ real us ]\n",
      "french=>[ je me cache ] english=> [ im hiding ] predicted=>[ i was him ]\n",
      "french=>[ tenezvous tranquille ] english=> [ hold still ] predicted=>[ fine s alo ]\n",
      "french=>[ continuez a rouler ] english=> [ drive on ] predicted=>[ arn we tor ]\n",
      "french=>[ oubliele ] english=> [ forget it ] predicted=>[ forget him ]\n",
      "french=>[ asseyezvous je vous prie ] english=> [ please sit ] predicted=>[ youre me ]\n",
      "french=>[ ignorez tom ] english=> [ ignore tom ] predicted=>[ help tom ]\n",
      "french=>[ je lai brule ] english=> [ i burned it ] predicted=>[ i saw one ]\n",
      "french=>[ voila cinq dollars ] english=> [ heres ] predicted=>[ let me go ]\n",
      "french=>[ ne vous precipitez pas ] english=> [ dont rush ] predicted=>[ dont fret ]\n",
      "french=>[ soyez un homme ] english=> [ be a man ] predicted=>[ be a man ]\n",
      "french=>[ jadore ca ] english=> [ i love it ] predicted=>[ i love it ]\n",
      "french=>[ je me suis amuse ] english=> [ i had fun ] predicted=>[ i am singl ]\n",
      "french=>[ je serais daccord ] english=> [ id agree ] predicted=>[ i can sad ]\n",
      "french=>[ discutons ] english=> [ lets chat ] predicted=>[ lets try ]\n",
      "french=>[ estce toi ] english=> [ is it you ] predicted=>[ is it true ]\n",
      "french=>[ reveilletoi ] english=> [ wake up ] predicted=>[ wake up ]\n",
      "french=>[ il court ] english=> [ he runs ] predicted=>[ he shunted ]\n",
      "french=>[ puisje venir ] english=> [ can i come ] predicted=>[ may i go ]\n",
      "french=>[ lavetoi ] english=> [ wash up ] predicted=>[ get us ]\n",
      "french=>[ il est faineant ] english=> [ he is lazy ] predicted=>[ hes not in ]\n",
      "french=>[ en joue feu ] english=> [ aim fire ] predicted=>[ are you up ]\n",
      "french=>[ je vais mieux ] english=> [ im better ] predicted=>[ i am weak ]\n",
      "french=>[ on y est ] english=> [ here we are ] predicted=>[ we tried ]\n",
      "french=>[ cherchele ] english=> [ look it up ] predicted=>[ cheer it u ]\n",
      "french=>[ voir cidessous ] english=> [ see below ] predicted=>[ let me is ]\n",
      "french=>[ je me suis marre ] english=> [ i had fun ] predicted=>[ i am a rin ]\n",
      "french=>[ suisje en avance ] english=> [ am i early ] predicted=>[ am i walk ]\n",
      "french=>[ portele ] english=> [ carry this ] predicted=>[ take it ]\n",
      "french=>[ ne riez pas ] english=> [ dont laugh ] predicted=>[ dont shoot ]\n",
      "french=>[ jen veux une ] english=> [ i want one ] predicted=>[ i want one ]\n",
      "french=>[ je vous ai vu ] english=> [ i saw you ] predicted=>[ i saw you ]\n",
      "french=>[ je suis gras ] english=> [ im fat ] predicted=>[ im sure ]\n",
      "french=>[ appellemoi ] english=> [ call me ] predicted=>[ call me ]\n",
      "french=>[ asseyezvous ici ] english=> [ sit here ] predicted=>[ sit here ]\n",
      "french=>[ je suis revenu ] english=> [ i came back ] predicted=>[ im lost ]\n",
      "french=>[ soyez satisfaites ] english=> [ be content ] predicted=>[ be content ]\n",
      "french=>[ sans blague ] english=> [ no kidding ] predicted=>[ do it ight ]\n",
      "french=>[ je suis gourmand ] english=> [ im greedy ] predicted=>[ im allad ]\n",
      "french=>[ vous etes grandes ] english=> [ youre big ] predicted=>[ youre big ]\n",
      "french=>[ prenez les miens ] english=> [ take mine ] predicted=>[ take mine ]\n",
      "french=>[ je vous ai vus ] english=> [ i saw you ] predicted=>[ i saw you ]\n",
      "french=>[ detendstoi ] english=> [ cool off ] predicted=>[ hurry up ]\n",
      "french=>[ ecoutez ] english=> [ listen ] predicted=>[ come on in ]\n",
      "french=>[ il a huit ans ] english=> [ he is eight ] predicted=>[ he huss to ]\n",
      "french=>[ je ten prie ] english=> [ oh please ] predicted=>[ i like you ]\n",
      "french=>[ tom est fou ] english=> [ toms mad ] predicted=>[ tom is mad ]\n",
      "french=>[ je suis sourde ] english=> [ im deaf ] predicted=>[ im sure ]\n",
      "french=>[ estu levee ] english=> [ are you up ] predicted=>[ are you up ]\n",
      "french=>[ je suis armee ] english=> [ im armed ] predicted=>[ im armed ]\n",
      "french=>[ jessaye ] english=> [ i try ] predicted=>[ i tried ]\n",
      "french=>[ faites attention ] english=> [ be careful ] predicted=>[ be careful ]\n",
      "french=>[ sommesnous perdus ] english=> [ are we lost ] predicted=>[ am i lost ]\n",
      "french=>[ sois prudente ] english=> [ be watchful ] predicted=>[ be careful ]\n",
      "french=>[ je men rappelle ] english=> [ i remember ] predicted=>[ i was weat ]\n",
      "french=>[ continuez ] english=> [ go on ] predicted=>[ whot us ]\n",
      "french=>[ qui a gagne ] english=> [ who won ] predicted=>[ who wan wo ]\n",
      "french=>[ maman a pleure ] english=> [ mama cried ] predicted=>[ any arem ]\n",
      "french=>[ cest un phenomene de mode ] english=> [ its a fad ] predicted=>[ hes a alk ]\n"
     ]
    }
   ],
   "source": [
    "for f_t,e_t in zip(fra_test[:100],eng_test[:100]):\n",
    "    \n",
    "    text = to_eng(f_t)\n",
    "    print(\"french=>[\",f_t,\"] english=> [\",e_t,\"] predicted=>[\",text,\"]\")"
   ]
  },
  {
   "cell_type": "code",
   "execution_count": 59,
   "metadata": {},
   "outputs": [
    {
     "name": "stdout",
     "output_type": "stream",
     "text": [
      "<tensorflow.python.keras.engine.training.Model object at 0x7f2c063a90b8>\n",
      "[(None, 11, 29), (None, 11, 34)]\n"
     ]
    }
   ],
   "source": [
    "attention_layer = model.get_layer('attention') # or model.layers[7]\n",
    "attention_model = Model(inputs=model.inputs, outputs=model.outputs + [attention_layer.output])\n",
    "\n",
    "print(attention_model)\n",
    "print(attention_model.output_shape)"
   ]
  },
  {
   "cell_type": "code",
   "execution_count": 60,
   "metadata": {},
   "outputs": [],
   "source": [
    "%matplotlib inline  \n",
    "import matplotlib\n",
    "import matplotlib.pyplot as plt\n",
    "import seaborn\n",
    "\n",
    "seaborn.set(font=['Osaka'], font_scale=3)\n",
    "\n",
    "def attent_and_generate(text):\n",
    "    encoder_input = transform(input_encoding, [text.lower()], INPUT_LENGTH)\n",
    "    decoder_input = np.zeros(shape=(len(encoder_input), OUTPUT_LENGTH))\n",
    "    decoder_input[:,0] = CHAR_CODE_START\n",
    "    \n",
    "    for i in range(1, OUTPUT_LENGTH):\n",
    "        output, attention = attention_model.predict([encoder_input, decoder_input])\n",
    "        decoder_input[:,i] = output.argmax(axis=2)[:,i]\n",
    "        attention_density = attention[0]\n",
    "        decoded_output = decode(output_decoding, decoder_input[0][1:])\n",
    "        \n",
    "    return attention_density, decoded_output\n",
    "\n",
    "\n",
    "def visualize(text):\n",
    "    attention_density, katakana = attent_and_generate(text)\n",
    "\n",
    "    plt.clf()\n",
    "    plt.figure(figsize=(28,12))\n",
    "    \n",
    "    ax = seaborn.heatmap(attention_density[:len(katakana) + 2, : len(text) + 2],\n",
    "        xticklabels=[w for w in text],\n",
    "        yticklabels=[w for w in katakana])\n",
    "\n",
    "    ax.invert_yaxis()\n",
    "    plt.show()"
   ]
  },
  {
   "cell_type": "code",
   "execution_count": 64,
   "metadata": {},
   "outputs": [
    {
     "name": "stderr",
     "output_type": "stream",
     "text": [
      "/home/longbridge/tensorflow3/venv3/lib/python3.6/site-packages/matplotlib/font_manager.py:1331: UserWarning: findfont: Font family ['Osaka'] not found. Falling back to DejaVu Sans\n",
      "  (prop.get_family(), self.defaultFamily[fontext]))\n"
     ]
    },
    {
     "data": {
      "text/plain": [
       "<Figure size 432x288 with 0 Axes>"
      ]
     },
     "metadata": {},
     "output_type": "display_data"
    },
    {
     "data": {
      "image/png": "[encoded data removed]",
      "text/plain": [
       "<Figure size 2016x864 with 2 Axes>"
      ]
     },
     "metadata": {},
     "output_type": "display_data"
    }
   ],
   "source": [
    "visualize(fra_test[92]);"
   ]
  },
  {
   "cell_type": "code",
   "execution_count": null,
   "metadata": {},
   "outputs": [],
   "source": [
    "eng_test[0]"
   ]
  },
  {
   "cell_type": "code",
   "execution_count": null,
   "metadata": {},
   "outputs": [],
   "source": []
  }
 ],
 "metadata": {
  "kernelspec": {
   "display_name": "Python 2",
   "language": "python",
   "name": "python2"
  },
  "language_info": {
   "codemirror_mode": {
    "name": "ipython",
    "version": 2
   },
   "file_extension": ".py",
   "mimetype": "text/x-python",
   "name": "python",
   "nbconvert_exporter": "python",
   "pygments_lexer": "ipython2",
   "version": "2.7.15"
  }
 },
 "nbformat": 4,
 "nbformat_minor": 2
}
